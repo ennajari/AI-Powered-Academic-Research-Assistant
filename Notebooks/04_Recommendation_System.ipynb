{
 "cells": [
  {
   "cell_type": "code",
   "execution_count": 2,
   "metadata": {},
   "outputs": [],
   "source": [
    "import pandas as pd\n",
    "import numpy as np\n",
    "from sklearn.feature_extraction.text import TfidfVectorizer\n",
    "from sklearn.metrics.pairwise import cosine_similarity\n",
    "from scipy.sparse import csr_matrix\n",
    "from pathlib import Path\n",
    "import joblib\n",
    "import torch"
   ]
  },
  {
   "cell_type": "code",
   "execution_count": 3,
   "metadata": {},
   "outputs": [
    {
     "name": "stdout",
     "output_type": "stream",
     "text": [
      "Using device: cuda\n"
     ]
    }
   ],
   "source": [
    "# Check if CUDA is available\n",
    "device = torch.device('cuda' if torch.cuda.is_available() else 'cpu')\n",
    "print(f\"Using device: {device}\")"
   ]
  },
  {
   "cell_type": "code",
   "execution_count": 4,
   "metadata": {},
   "outputs": [],
   "source": [
    "# Define directories\n",
    "DATA_DIR = Path('/home/abdellah-ennajari/Desktop/AI-Powered-Academic-Research-Assistant')\n",
    "PROCESSED_DIR = DATA_DIR / 'Data/processed'"
   ]
  },
  {
   "cell_type": "code",
   "execution_count": 5,
   "metadata": {},
   "outputs": [],
   "source": [
    "# Load cleaned data\n",
    "papers_df = pd.read_csv(PROCESSED_DIR / 'cleaned_papers.csv')\n"
   ]
  },
  {
   "cell_type": "markdown",
   "metadata": {},
   "source": [
    "# ====================================================\n",
    "# TF-IDF Vectorization\n",
    "# ===================================================="
   ]
  },
  {
   "cell_type": "code",
   "execution_count": 6,
   "metadata": {},
   "outputs": [],
   "source": [
    "# Initialize TF-IDF Vectorizer\n",
    "tfidf_vectorizer = TfidfVectorizer(stop_words='english', max_features=5000)"
   ]
  },
  {
   "cell_type": "code",
   "execution_count": 7,
   "metadata": {},
   "outputs": [],
   "source": [
    "# Fit and transform the paper titles\n",
    "tfidf_matrix = tfidf_vectorizer.fit_transform(papers_df['title'])\n"
   ]
  },
  {
   "cell_type": "code",
   "execution_count": 8,
   "metadata": {},
   "outputs": [],
   "source": [
    "# ====================================================\n",
    "# Recommendation Function (Using Sparse Matrices)\n",
    "# ===================================================="
   ]
  },
  {
   "cell_type": "code",
   "execution_count": 9,
   "metadata": {},
   "outputs": [],
   "source": [
    "def recommend_papers(query, top_n=5):\n",
    "    \"\"\"\n",
    "    Recommend papers based on a query (paper title or keywords).\n",
    "    \"\"\"\n",
    "    # Transform the query into TF-IDF vector\n",
    "    query_vector = tfidf_vectorizer.transform([query])\n",
    "\n",
    "    # Compute cosine similarity between the query and all papers\n",
    "    cosine_similarities = cosine_similarity(query_vector, tfidf_matrix).flatten()\n",
    "\n",
    "    # Get the indices of the top N most similar papers\n",
    "    top_indices = cosine_similarities.argsort()[-top_n:][::-1]\n",
    "\n",
    "    # Return the top N recommended papers\n",
    "    recommendations = papers_df.iloc[top_indices]\n",
    "    return recommendations"
   ]
  },
  {
   "cell_type": "markdown",
   "metadata": {},
   "source": [
    "# ====================================================\n",
    "# Example Usage\n",
    "# ===================================================="
   ]
  },
  {
   "cell_type": "code",
   "execution_count": 10,
   "metadata": {},
   "outputs": [
    {
     "name": "stdout",
     "output_type": "stream",
     "text": [
      "Recommendations for query: 'machine learning in healthcare'\n",
      "          paper_id                                              title\n",
      "489050  2009.11087      Probabilistic Machine Learning for Healthcare\n",
      "458467  1909.07370  Machine learning in healthcare - a system’s pe...\n",
      "504751  2305.02474  MLHOps: Machine Learning for Healthcare Operat...\n",
      "235553  2004.03360  Machine Learning-based Framework for Smart Hea...\n",
      "408646  2206.14397      Fair Machine Learning in Healthcare: A Survey\n"
     ]
    }
   ],
   "source": [
    "# Example query\n",
    "query = \"machine learning in healthcare\"\n",
    "print(f\"Recommendations for query: '{query}'\")\n",
    "recommendations = recommend_papers(query, top_n=5)\n",
    "print(recommendations[['paper_id', 'title']])\n"
   ]
  },
  {
   "cell_type": "markdown",
   "metadata": {},
   "source": [
    "# ====================================================\n",
    "# Save the TF-IDF Matrix and Vectorizer\n",
    "# ===================================================="
   ]
  },
  {
   "cell_type": "code",
   "execution_count": 11,
   "metadata": {},
   "outputs": [
    {
     "name": "stdout",
     "output_type": "stream",
     "text": [
      "\n",
      "TF-IDF matrix and vectorizer saved to 'processed' directory.\n"
     ]
    }
   ],
   "source": [
    "# Save the TF-IDF matrix and vectorizer for later use\n",
    "joblib.dump(tfidf_matrix, PROCESSED_DIR / 'tfidf_matrix.pkl')\n",
    "joblib.dump(tfidf_vectorizer, PROCESSED_DIR / 'tfidf_vectorizer.pkl')\n",
    "\n",
    "print(\"\\nTF-IDF matrix and vectorizer saved to 'processed' directory.\")\n"
   ]
  },
  {
   "cell_type": "code",
   "execution_count": null,
   "metadata": {},
   "outputs": [],
   "source": []
  }
 ],
 "metadata": {
  "kernelspec": {
   "display_name": "ai",
   "language": "python",
   "name": "python3"
  },
  "language_info": {
   "codemirror_mode": {
    "name": "ipython",
    "version": 3
   },
   "file_extension": ".py",
   "mimetype": "text/x-python",
   "name": "python",
   "nbconvert_exporter": "python",
   "pygments_lexer": "ipython3",
   "version": "3.10.16"
  }
 },
 "nbformat": 4,
 "nbformat_minor": 2
}
