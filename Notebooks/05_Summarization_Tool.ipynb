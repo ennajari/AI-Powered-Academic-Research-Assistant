{
 "cells": [
  {
   "cell_type": "code",
   "execution_count": 11,
   "metadata": {},
   "outputs": [],
   "source": [
    "import torch\n",
    "from transformers import T5ForConditionalGeneration, T5Tokenizer\n",
    "from pathlib import Path\n",
    "import pandas as pd"
   ]
  },
  {
   "cell_type": "code",
   "execution_count": 12,
   "metadata": {},
   "outputs": [
    {
     "name": "stdout",
     "output_type": "stream",
     "text": [
      "Using device: cuda\n"
     ]
    }
   ],
   "source": [
    "# Check for CUDA availability and set the device\n",
    "device = torch.device('cuda' if torch.cuda.is_available() else 'cpu')\n",
    "print(f\"Using device: {device}\")"
   ]
  },
  {
   "cell_type": "code",
   "execution_count": 13,
   "metadata": {},
   "outputs": [],
   "source": [
    "# Define directories\n",
    "DATA_DIR = Path('/home/abdellah-ennajari/Desktop/AI-Powered-Academic-Research-Assistant')\n",
    "PROCESSED_DIR = DATA_DIR / 'Data/processed'"
   ]
  },
  {
   "cell_type": "code",
   "execution_count": 14,
   "metadata": {},
   "outputs": [],
   "source": [
    "# Verify if the processed data directory exists\n",
    "if not PROCESSED_DIR.exists():\n",
    "    raise FileNotFoundError(f\"Directory not found: {PROCESSED_DIR}\")\n"
   ]
  },
  {
   "cell_type": "code",
   "execution_count": 15,
   "metadata": {},
   "outputs": [],
   "source": [
    "# Load cleaned data\n",
    "papers_df = pd.read_csv(PROCESSED_DIR / 'cleaned_papers.csv')"
   ]
  },
  {
   "cell_type": "code",
   "execution_count": 16,
   "metadata": {},
   "outputs": [
    {
     "name": "stderr",
     "output_type": "stream",
     "text": [
      "/home/abdellah-ennajari/miniconda3/envs/ai/lib/python3.10/site-packages/transformers/modeling_utils.py:1439: FutureWarning: You are using `torch.load` with `weights_only=False` (the current default value), which uses the default pickle module implicitly. It is possible to construct malicious pickle data which will execute arbitrary code during unpickling (See https://github.com/pytorch/pytorch/blob/main/SECURITY.md#untrusted-models for more details). In a future release, the default value for `weights_only` will be flipped to `True`. This limits the functions that could be executed during unpickling. Arbitrary objects will no longer be allowed to be loaded via this mode unless they are explicitly allowlisted by the user via `torch.serialization.add_safe_globals`. We recommend you start setting `weights_only=True` for any use case where you don't have full control of the loaded file. Please open an issue on GitHub for any issues related to this experimental feature.\n",
      "  state_dict = torch.load(resolved_archive_file, map_location=\"cpu\")\n"
     ]
    }
   ],
   "source": [
    "# Initialize the T5 tokenizer and model\n",
    "import sentencepiece\n",
    "\n",
    "model_name = \"t5-small\"\n",
    "try:\n",
    "    tokenizer = T5Tokenizer.from_pretrained(model_name)\n",
    "    model = T5ForConditionalGeneration.from_pretrained(model_name).to(device)\n",
    "except Exception as e:\n",
    "    print(f\"Error loading model or tokenizer: {str(e)}\")\n",
    "    raise"
   ]
  },
  {
   "cell_type": "code",
   "execution_count": 17,
   "metadata": {},
   "outputs": [],
   "source": [
    "# Define the summarization function\n",
    "def summarize_text(text, max_length=150):\n",
    "    \"\"\"\n",
    "    Summarize a given text using the T5 model.\n",
    "    \n",
    "    Args:\n",
    "        text (str): Input text to summarize\n",
    "        max_length (int): Maximum length of the summary\n",
    "        \n",
    "    Returns:\n",
    "        str: Generated summary\n",
    "    \"\"\"\n",
    "    try:\n",
    "        # Preprocess the text for T5\n",
    "        input_text = \"summarize: \" + text\n",
    "        \n",
    "        # Tokenize the input text\n",
    "        inputs = tokenizer(input_text, \n",
    "                           return_tensors=\"pt\",\n",
    "                           max_length=512,\n",
    "                           padding=True,\n",
    "                           truncation=True).to(device)\n",
    "        \n",
    "        # Generate summary\n",
    "        summary_ids = model.generate(\n",
    "            inputs.input_ids,\n",
    "            max_length=max_length,\n",
    "            num_beams=4,\n",
    "            length_penalty=2.0,\n",
    "            early_stopping=True,\n",
    "            no_repeat_ngram_size=2\n",
    "        )\n",
    "        \n",
    "        # Decode the generated summary\n",
    "        summary = tokenizer.decode(summary_ids[0], skip_special_tokens=True)\n",
    "        return summary\n",
    "    \n",
    "    except Exception as e:\n",
    "        print(f\"Error in summarization: {str(e)}\")\n",
    "        return None"
   ]
  },
  {
   "cell_type": "code",
   "execution_count": 18,
   "metadata": {},
   "outputs": [
    {
     "name": "stdout",
     "output_type": "stream",
     "text": [
      "Paper Title: Uso de herramientas digitales matem\\'aticas en la Educaci\\'on Secundaria\n",
      "Original Text: Machine learning is a method of data analysis that automates analytical model building. It is a branch of artificial intelligence based on the idea that systems can learn from data, identify patterns, and make decisions with minimal human intervention.\n"
     ]
    },
    {
     "name": "stderr",
     "output_type": "stream",
     "text": [
      "2025-02-09 16:59:42.868739: E external/local_xla/xla/stream_executor/cuda/cuda_fft.cc:477] Unable to register cuFFT factory: Attempting to register factory for plugin cuFFT when one has already been registered\n",
      "WARNING: All log messages before absl::InitializeLog() is called are written to STDERR\n",
      "E0000 00:00:1739116782.917084    4068 cuda_dnn.cc:8310] Unable to register cuDNN factory: Attempting to register factory for plugin cuDNN when one has already been registered\n",
      "E0000 00:00:1739116782.933494    4068 cuda_blas.cc:1418] Unable to register cuBLAS factory: Attempting to register factory for plugin cuBLAS when one has already been registered\n",
      "2025-02-09 16:59:43.048287: I tensorflow/core/platform/cpu_feature_guard.cc:210] This TensorFlow binary is optimized to use available CPU instructions in performance-critical operations.\n",
      "To enable the following instructions: AVX2 FMA, in other operations, rebuild TensorFlow with the appropriate compiler flags.\n"
     ]
    },
    {
     "name": "stdout",
     "output_type": "stream",
     "text": [
      "Summary: machine learning is based on the idea that systems can learn from data, identify patterns, and make decisions with minimal human intervention.\n",
      "\n",
      "Summarization model and tokenizer saved successfully.\n"
     ]
    }
   ],
   "source": [
    "# Example usage of the summarization function\n",
    "try:\n",
    "    example_paper = papers_df.iloc[0]\n",
    "    paper_title = example_paper['title']\n",
    "    paper_text = \"Machine learning is a method of data analysis that automates analytical model building. It is a branch of artificial intelligence based on the idea that systems can learn from data, identify patterns, and make decisions with minimal human intervention.\"\n",
    "    \n",
    "    # Display paper title and original text\n",
    "    print(f\"Paper Title: {paper_title}\")\n",
    "    print(f\"Original Text: {paper_text}\")\n",
    "    \n",
    "    # Generate summary\n",
    "    summary = summarize_text(paper_text)\n",
    "    if summary:\n",
    "        print(f\"Summary: {summary}\")\n",
    "    \n",
    "    # Save the model and tokenizer\n",
    "    model.save_pretrained(PROCESSED_DIR / 'summarization_model')\n",
    "    tokenizer.save_pretrained(PROCESSED_DIR / 'summarization_tokenizer')\n",
    "    print(\"\\nSummarization model and tokenizer saved successfully.\")\n",
    "\n",
    "except Exception as e:\n",
    "    print(f\"Error in example usage: {str(e)}\")"
   ]
  },
  {
   "cell_type": "code",
   "execution_count": null,
   "metadata": {},
   "outputs": [],
   "source": []
  }
 ],
 "metadata": {
  "kernelspec": {
   "display_name": "ai",
   "language": "python",
   "name": "python3"
  },
  "language_info": {
   "codemirror_mode": {
    "name": "ipython",
    "version": 3
   },
   "file_extension": ".py",
   "mimetype": "text/x-python",
   "name": "python",
   "nbconvert_exporter": "python",
   "pygments_lexer": "ipython3",
   "version": "3.10.16"
  }
 },
 "nbformat": 4,
 "nbformat_minor": 2
}
